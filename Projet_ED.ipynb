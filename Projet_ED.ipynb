{
 "cells": [
  {
   "cell_type": "markdown",
   "id": "099334a1",
   "metadata": {},
   "source": [
    "# Projet : Analyse de l'impact de la pollution atmosphérique sur la santé en France Métropolitaine"
   ]
  },
  {
   "cell_type": "markdown",
   "id": "73dadbae",
   "metadata": {},
   "source": [
    "## I. Objectif  \n",
    "\n",
    "Développer un pipeline automatisé pour collecter, nettoyer, explorer et analyser les données sur la pollution de l'air et ses effets sur la santé. \n",
    "Il s’agit de quantifier le nombre de décès attribuables à l'exposition à la pollution de l'air, en particulier aux particules fines (PM2.5)  et au dioxyde d'azote (NO2) en tenant compte des facteurs démographiques et géographiques.\n",
    "\n",
    "Selon les estimations, environ 40 000 décès par an en France sont liés à la pollution de l'air ambiant, ce qui représente une perte d'espérance de vie significative pour les personnes exposées.\n",
    "\n",
    "Cette analyse permettra de répondre aux questions suivantes : \n",
    "    \n",
    "    - Comment les effets de la pollution varient-ils selon les groupes démographiques ?\n",
    "    \n",
    "    - Comment la pollution affecte-t-elle différemment les tranches d'âge et les sexes ?\n",
    "    \n",
    "    - Y a-t-il des inégalités géographiques dans l'exposition à la pollution et ses effets ?\n"
   ]
  },
  {
   "cell_type": "markdown",
   "id": "7fd80127",
   "metadata": {},
   "source": [
    "## II. Description du projet "
   ]
  },
  {
   "cell_type": "markdown",
   "id": "b8b47858",
   "metadata": {},
   "source": [
    "Voici les différentes étapes du pipeline : "
   ]
  },
  {
   "cell_type": "markdown",
   "id": "d9816a68",
   "metadata": {},
   "source": [
    "### 1.\tCollecte des données"
   ]
  },
  {
   "cell_type": "markdown",
   "id": "33982541",
   "metadata": {},
   "source": [
    "Vous allez extraire les données de pollution atmosphérique et de santé (possibilité de développer des scripts Python) pour une ou deux régions sur la période 2019-2020 en interrogeant différentes sources."
   ]
  },
  {
   "cell_type": "markdown",
   "id": "4ef00561",
   "metadata": {},
   "source": [
    "a)\tPour les données de pollution : Elles porteront sur les polluants PM2.5 et NO2 avec les caractéristiques suivantes : concentrations moyennes (journalières et/ou annuelles), les piques de concentration (valeurs maximales pour l’évaluation des expositions aigües), les variations saisonnières, les données spatiales (zones géographiques).\n",
    "Les sources à interroger sont : \n",
    "\n",
    "    - Geodair sur la qualité de l’air au quotidien : https://www.geodair.fr\n",
    "\n",
    "    - Mesures des concentrations des polluants à partir des données ouvertes de data.gouv.fr (en utilisant l’API) (https://www.data.gouv.fr/fr/datasets/donnees-temps-reel-de-mesure-des-concentrations-de-polluants-atmospheriques-reglementes-1/)\n",
    "\n",
    "    - Des données ouvertes de data.gouv.fr (https://www.data.gouv.fr/fr/datasets/qualite-de-lair-concentration-moyenne-no2-pm2-5-pm10-o3-a-partir-de-2015/ ).   \n"
   ]
  },
  {
   "cell_type": "markdown",
   "id": "365c4fd9",
   "metadata": {},
   "source": [
    "b)\tPour les données de mortalité, les variables essentielles à considérer pour évaluer l'impact de la pollution de l'air sur la santé sont : \n",
    "\n",
    "    - Date de décès : Permet d'analyser les tendances temporelles et de croiser avec les données de pollution (les données doivent être alignées avec celles des polluants).\n",
    "    - Age du décédé : Segmentation des données par tranche d'âge (par exemple, 0-14 ans, 15-64 ans, 65 ans et plus)\n",
    "    - Sexe : pour analyser les différences de mortalité entre hommes et femmes\n",
    "    - Cause du décès (e.g. maladies respiratoires, cardio-vasculaires, cancer du poumon)\n",
    "    - Lieu du décès : Commune, département de résidence\n",
    "\n",
    "Les sources à interroger sont la base de données CépiDc de l'INSERM : https://www.data.gouv.fr/fr/datasets/causes-de-deces/ et/ou l’INSEE https://www.insee.fr/fr/statistiques , en vous concentrant sur les décès attribuables à l'exposition à la pollution de l'air (e.g. Maladies de l’appareil respiratoire). \n"
   ]
  },
  {
   "cell_type": "markdown",
   "id": "df39f1e4",
   "metadata": {},
   "source": [
    "### 2.\tExploration des données"
   ]
  },
  {
   "cell_type": "markdown",
   "id": "50a2c73c",
   "metadata": {},
   "source": [
    "Explorer les données et identifier les différentes variables\n",
    "\n"
   ]
  },
  {
   "cell_type": "markdown",
   "id": "179ca22d",
   "metadata": {},
   "source": [
    "a) Montrer l'évolution des niveaux de pollution\n"
   ]
  },
  {
   "cell_type": "markdown",
   "id": "cbe1f291",
   "metadata": {},
   "source": [
    "b) Analyser les corrélations entre les niveaux de polluants (PM2.5 et NO2) et les taux de mortalité "
   ]
  },
  {
   "cell_type": "markdown",
   "id": "bfe09687",
   "metadata": {},
   "source": [
    "c)\tDéterminer les différences entre groupes démographiques."
   ]
  },
  {
   "cell_type": "markdown",
   "id": "f1c163e3",
   "metadata": {},
   "source": [
    "### 3.\tNettoyage et prétraitement"
   ]
  },
  {
   "cell_type": "markdown",
   "id": "2c613b18",
   "metadata": {},
   "source": [
    "Créer des fonctions pour chaque étape du nettoyage : \n",
    "\n"
   ]
  },
  {
   "cell_type": "markdown",
   "id": "a538e35b",
   "metadata": {},
   "source": [
    "a) Traiter les valeurs manquantes dans les données de pollution et de santé "
   ]
  },
  {
   "cell_type": "markdown",
   "id": "d4e3e1b4",
   "metadata": {},
   "source": [
    "b) Harmoniser les formats de date, localisation entre les différentes sources de données\n"
   ]
  },
  {
   "cell_type": "markdown",
   "id": "ec6504ca",
   "metadata": {},
   "source": [
    "c) Gérer les incohérences potentielles  "
   ]
  },
  {
   "cell_type": "markdown",
   "id": "e488649b",
   "metadata": {},
   "source": [
    "d) Normaliser vos données"
   ]
  },
  {
   "cell_type": "markdown",
   "id": "742f8023",
   "metadata": {},
   "source": [
    "### 4.\tAnalyse exploratoire"
   ]
  },
  {
   "cell_type": "markdown",
   "id": "94313289",
   "metadata": {},
   "source": [
    "a) Créer des visualisations montrant les variations de la pollution et des décès pour des périodes similaires.\n"
   ]
  },
  {
   "cell_type": "markdown",
   "id": "2c980b12",
   "metadata": {},
   "source": [
    "b) Analyser les corrélations entre les variables de pollution et les données de mortalité\n"
   ]
  },
  {
   "cell_type": "markdown",
   "id": "4448f653",
   "metadata": {},
   "source": [
    "### 5.\tIngénierie des caractéristiques"
   ]
  },
  {
   "cell_type": "markdown",
   "id": "cf03fc8f",
   "metadata": {},
   "source": [
    "a)\tÉcrire des fonctions qui calculent les variables dérivées (moyennes des polluants)"
   ]
  },
  {
   "cell_type": "markdown",
   "id": "089c5228",
   "metadata": {},
   "source": [
    "b)\tIntégrer des données météorologiques si disponibles en utilisant une API météo (comme OpenWeatherMap)"
   ]
  },
  {
   "cell_type": "markdown",
   "id": "8c8c9298",
   "metadata": {},
   "source": [
    "### 6.\tRéduction de dimensionnalité"
   ]
  },
  {
   "cell_type": "markdown",
   "id": "ca49efc0",
   "metadata": {},
   "source": [
    "a)\tAppliquer des techniques de réduction de dimensionnalité sur les données de pollution"
   ]
  },
  {
   "cell_type": "markdown",
   "id": "0ea8ef67",
   "metadata": {},
   "source": [
    "b)\tGénérer des visualisations des composantes principales"
   ]
  },
  {
   "cell_type": "markdown",
   "id": "b06a9bcb",
   "metadata": {},
   "source": [
    "### 7.\tÉvaluation et interprétation"
   ]
  },
  {
   "cell_type": "markdown",
   "id": "3aafbe76",
   "metadata": {},
   "source": [
    "a)\tÉvaluer les impacts de la pollution sur la mortalité en utilisant les dimensions réduites "
   ]
  },
  {
   "cell_type": "markdown",
   "id": "1f81be78",
   "metadata": {},
   "source": [
    "b)\tIdentifier des clusters démographiques et géographiques  "
   ]
  },
  {
   "cell_type": "markdown",
   "id": "21138904",
   "metadata": {},
   "source": [
    "c)\tInterprétez les résultats, par exemple une augmentation de X µg/m³ de PM2.5 est associée à une augmentation de Y% du taux de mortalité"
   ]
  },
  {
   "cell_type": "markdown",
   "id": "dfffb17c",
   "metadata": {},
   "source": [
    "## III. Modalités et livrables"
   ]
  },
  {
   "cell_type": "markdown",
   "id": "5e6a6cc2",
   "metadata": {},
   "source": [
    "### 1. Modalités"
   ]
  },
  {
   "cell_type": "markdown",
   "id": "c29b1bf4",
   "metadata": {},
   "source": [
    "Le projet commence le 21/01 et la présentation du travail aura lieu le 11/02 "
   ]
  },
  {
   "cell_type": "markdown",
   "id": "8e1f590b",
   "metadata": {},
   "source": [
    "### 2. Livrables"
   ]
  },
  {
   "cell_type": "markdown",
   "id": "c2aabd57",
   "metadata": {},
   "source": [
    "Une archive (enregistrée sous vos noms) comprenant : \n",
    "- Code python \n",
    "- Les données \n",
    "- Un rapport de 5 pages max décrivant les différentes étapes (pas de code)\n",
    "- La présentation"
   ]
  }
 ],
 "metadata": {
  "kernelspec": {
   "display_name": "your_environment_name",
   "language": "python",
   "name": "your_environment_name"
  },
  "language_info": {
   "codemirror_mode": {
    "name": "ipython",
    "version": 3
   },
   "file_extension": ".py",
   "mimetype": "text/x-python",
   "name": "python",
   "nbconvert_exporter": "python",
   "pygments_lexer": "ipython3",
   "version": "3.10.16"
  }
 },
 "nbformat": 4,
 "nbformat_minor": 5
}
